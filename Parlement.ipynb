{
  "cells": [
    {
      "cell_type": "code",
      "execution_count": 1,
      "metadata": {
        "id": "HdOJ8c8Y6ZGv"
      },
      "outputs": [],
      "source": [
        "import pandas as pd \n",
        "import numpy as np \n",
        "from PyPDF2 import PdfReader\n",
        "from datetime import datetime \n",
        "import dateparser\n",
        "import re\n",
        "import locale\n",
        "import json\n",
        "import os"
      ]
    },
    {
      "cell_type": "markdown",
      "metadata": {
        "id": "fZvnsUL28q9G"
      },
      "source": [
        "# Extracting the text "
      ]
    },
    {
      "cell_type": "code",
      "execution_count": 2,
      "metadata": {
        "id": "V_7X4bAJ9Pca"
      },
      "outputs": [],
      "source": [
        "def extract_pdf_to_txt(src_dir, dest_dir):\n",
        "    # List all files in the source directory\n",
        "    all_files = os.listdir(src_dir)\n",
        "\n",
        "    # Filter PDF files\n",
        "    pdf_files = [f for f in all_files if f.lower().endswith('.pdf')]\n",
        "\n",
        "    # Loop through all the PDF files\n",
        "    for pdf_file in pdf_files:\n",
        "        pdf_path = os.path.join(src_dir, pdf_file)\n",
        "        reader = PdfReader(pdf_path)\n",
        "\n",
        "        # Extract text from the first page\n",
        "        first_page_text = reader.pages[0].extract_text()\n",
        "\n",
        "        # Search for a date in the format \"DD MONTH YYYY\" using a regular expression\n",
        "        date_match = re.search(r'\\d{1,2} (JANVIER|FÉVRIER|MARS|AVRIL|MAI|JUIN|JUILLET|AOÛT|SEPTEMBRE|OCTOBRE|NOVEMBRE|DÉCEMBRE)  \\d{4}', first_page_text)\n",
        "\n",
        "        # If a date is found, use it as a filename\n",
        "        if date_match:\n",
        "            # Get the matched date string\n",
        "            date_str = date_match.group()\n",
        "\n",
        "            # Remove extra spaces from the date string\n",
        "            date_str = ' '.join(date_str.split())\n",
        "\n",
        "            # Convert the date string to a datetime object\n",
        "            date = dateparser.parse(date_str, languages=['fr'])\n",
        "\n",
        "            # Format the date as \"YY-MM-DD\"\n",
        "            formatted_date = date.strftime('%y-%m-%d')\n",
        "\n",
        "            # Create a filename using the formatted date\n",
        "            filename = f\"{formatted_date}.txt\"\n",
        "        # If a date is not found, use the original PDF filename as a base\n",
        "        else:\n",
        "            filename = f\"{os.path.splitext(pdf_file)[0]}.txt\"\n",
        "\n",
        "        txt_path = os.path.join(dest_dir, filename)\n",
        "\n",
        "        # Open the output file for writing with 'utf-8' encoding\n",
        "        with open(txt_path, \"w\", encoding='utf-8') as f:\n",
        "            # Loop through all the pages in the PDF\n",
        "            for page in reader.pages:\n",
        "                # Extract text from the current page and write it to the output file\n",
        "                f.write(page.extract_text())\n",
        "\n",
        "src_dir = r'C:\\Users\\Stephanie\\Documents\\GitHub\\NLP_Parlement\\pdf'\n",
        "dest_dir = r'C:\\Users\\Stephanie\\Documents\\GitHub\\NLP_Parlement\\txt'\n",
        "extract_pdf_to_txt(src_dir, dest_dir)"
      ]
    },
    {
      "cell_type": "markdown",
      "metadata": {
        "id": "uZRPFKQlA9NZ"
      },
      "source": [
        "# Important information"
      ]
    },
    {
      "cell_type": "code",
      "execution_count": 3,
      "metadata": {},
      "outputs": [],
      "source": [
        "parlementarians = pd.read_csv(r'C:\\Users\\Stephanie\\Documents\\GitHub\\NLP_Parlement\\2022.07.22_Parlementaires PFWB_0.csv', header=None)\n",
        "column_names = ['Prénom', 'nom', 'sexe', 'résidence', 'naissance', 'date', 'parti', 'titre']\n",
        "parlementarians.columns = column_names"
      ]
    },
    {
      "cell_type": "code",
      "execution_count": 4,
      "metadata": {},
      "outputs": [],
      "source": [
        "known_speakers = parlementarians.apply(lambda row: {\"name\": row[\"Prénom\"] + \" \" + row[\"nom\"], \"title\": row[\"titre\"], 'parti': row['parti']}, axis=1).to_list()\n"
      ]
    },
    {
      "cell_type": "markdown",
      "metadata": {
        "id": "EybferjhR1Hq"
      },
      "source": [
        "# Convert to JSON file"
      ]
    },
    {
      "cell_type": "code",
      "execution_count": 26,
      "metadata": {
        "id": "DbTAYxHpSKzf"
      },
      "outputs": [],
      "source": [
        "# Helper functions\n",
        "\n",
        "# Define regular expressions and helper function to parse questions, speakers and statements\n",
        "def find_starting_point(text, starting_sentence='La séance est ouverte'):\n",
        "    starting_point = text.find(starting_sentence)\n",
        "    if starting_point != -1:\n",
        "        return starting_point + len(starting_sentence)\n",
        "    return None\n",
        "\n",
        "def clean_line_breaks(text):\n",
        "    # Replace hyphenated line breaks with an empty string\n",
        "    cleaned_text = re.sub(r'-\\s+', '', text)\n",
        "    # Clean the text from the \\n characters \n",
        "    cleaned_text = cleaned_text.replace('\\n', ' ')\n",
        "    return cleaned_text\n",
        "\n",
        "\n",
        "def find_questions(text):\n",
        "    question_pattern = re.compile(r'(?<=\\d\\.\\d Question)(.*?)(?=\\d\\.\\d Question)', re.DOTALL)\n",
        "    return question_pattern.findall(text)\n",
        "\n",
        "def find_projets(text):\n",
        "    projet_pattern = re.compile(r'\\d+ Projet de décret(.*?)(?=\\d+ Projet de décret|$)', re.DOTALL)\n",
        "    return projet_pattern.findall(text)\n",
        "\n",
        "def process_transcript(text, known_speakers):\n",
        "    # Create a regex pattern for speaker names\n",
        "    speaker_pattern = r'(?:Mme|M\\.)\\s+(?:' + '|'.join([re.escape(speaker[\"name\"]) for speaker in known_speakers]) + r')\\b(?:\\s*\\([^)]*\\)|\\s*[,.-])'\n",
        "\n",
        "    # Update the regex pattern to account for the space before the speaker's name\n",
        "    speaker_pattern_with_space = r'\\s*(?:' + '|'.join([re.escape(speaker[\"name\"]) for speaker in known_speakers]) + r')\\b'\n",
        "\n",
        "    # Find the starting point of the actual conversation\n",
        "    starting_point_pattern = re.compile(r'Question de .*? à .*?«.*?»', re.DOTALL)\n",
        "    starting_point = starting_point_pattern.search(text)\n",
        "    if starting_point:\n",
        "        text = text[starting_point.end():]\n",
        "\n",
        "    # Extract the theme\n",
        "    theme_pattern = re.compile(r'«(.*?)»')\n",
        "    theme_match = theme_pattern.search(text)\n",
        "    if theme_match:\n",
        "        theme = theme_match.group(1)\n",
        "        # Remove the theme from the text\n",
        "        text = text[:theme_match.start()] + text[theme_match.end():]\n",
        "    else:\n",
        "        theme = 'TBD'\n",
        "\n",
        "    # Split the text into parts\n",
        "    parts = re.split('(' + speaker_pattern_with_space + ')', text)\n",
        "    # Initialize the result list\n",
        "    result = []\n",
        "\n",
        "\n",
        "    # Initialize the current speaker\n",
        "    current_speaker = None\n",
        "\n",
        "    # Iterate through the parts\n",
        "    for part in parts:\n",
        "        found_speaker = False\n",
        "        for speaker in known_speakers:\n",
        "            if speaker[\"name\"] == part.strip():\n",
        "                current_speaker = speaker\n",
        "                found_speaker = True\n",
        "                break\n",
        "\n",
        "        if not found_speaker and current_speaker is not None:\n",
        "            # Append the spoken text by the current speaker\n",
        "            spoken_text = part.strip()\n",
        "            if spoken_text:\n",
        "                result.append({\"speaker\": current_speaker[\"name\"], \"title\": current_speaker[\"title\"], \"text\": spoken_text})\n",
        "\n",
        "    return result, theme"
      ]
    },
    {
      "cell_type": "code",
      "execution_count": 12,
      "metadata": {},
      "outputs": [],
      "source": [
        "def process_file(file_path, known_speakers):\n",
        "    with open(file_path, 'r', encoding='utf-8') as f:\n",
        "        full_text = f.read()\n",
        "\n",
        "    starting_point = find_starting_point(full_text)\n",
        "    if starting_point is not None:\n",
        "        transcript_text = full_text[starting_point:]\n",
        "    else:\n",
        "        print(\"Starting sentence not found. Analyzing the full text.\")\n",
        "        transcript_text = full_text\n",
        "\n",
        "    transcript_text = transcript_text.replace('\\n', ' ')\n",
        "    transcript_text = clean_line_breaks(transcript_text)\n",
        "\n",
        "    date = os.path.splitext(os.path.basename(file_path))[0]\n",
        "\n",
        "    # Find and process questions\n",
        "    questions_text = find_questions(transcript_text)\n",
        "    questions_data = []\n",
        "    for question_text in questions_text:\n",
        "        result, theme = process_transcript(question_text, known_speakers)\n",
        "        question_data = {\n",
        "            \"date\": date,\n",
        "            \"type\": 'question',\n",
        "            \"theme\": theme,\n",
        "            \"text\": result\n",
        "        }\n",
        "        questions_data.append(question_data)\n",
        "\n",
        "    # Find and process projets\n",
        "    projets_text = find_projets(transcript_text)\n",
        "    projets_data = []\n",
        "    for projet_text in projets_text:\n",
        "        result, theme = process_transcript(projet_text, known_speakers)\n",
        "        projet_data = {\n",
        "            \"date\": date,\n",
        "            \"type\": 'projet',\n",
        "            \"theme\": theme,\n",
        "            \"text\": result\n",
        "        }\n",
        "        projets_data.append(projet_data)\n",
        "\n",
        "    create_json_file(questions_data, projets_data, f\"{date}.json\")\n",
        "\n",
        "    return questions_data, projets_data"
      ]
    },
    {
      "cell_type": "code",
      "execution_count": 27,
      "metadata": {},
      "outputs": [],
      "source": [
        "questions, projets = process_file(r'C:\\Users\\Stephanie\\Documents\\GitHub\\NLP_Parlement\\txt\\23-04-12.txt', known_speakers)"
      ]
    },
    {
      "cell_type": "code",
      "execution_count": 29,
      "metadata": {},
      "outputs": [
        {
          "data": {
            "text/plain": [
              "{'date': '23-04-12',\n",
              " 'type': 'question',\n",
              " 'theme': 'Report de la d écision du gouvernement sur la pérennisation  des repas scolaires gratuits',\n",
              " 'text': [{'speaker': 'Alice Bernard', 'title': 'Député', 'text': 'à M.'},\n",
              "  {'speaker': 'Frédéric Daerden',\n",
              "   'title': \"Ministre du Budget, de la Fonction publique, de l'Égalité des chances et de la tutelle sur Wallonie-Bruxelles Enseignement\",\n",
              "   'text': ',  vice -président du gouvernement et ministre du Budget, de  la Fonction publique, de l’Égalité des chances et de la tutelle sur Wallonie -Bruxelles Enseignement, intitulée    Mme  Alice  Bernard (PTB) . – Entre mars  2022 et mars  2023, le prix des légumes  a augmenté de 40  %. Forcément, cette hausse se ressent partout, y compris sur  la fourniture des repas da ns les cantines scolaires. Par conséquent se pose le  problème de l’accessibilité de ces repas pour tous les enfants.   Monsieur le Ministre, vous avez dit que votre projet de pérennisation des repas  gratuits pour les écoles les plus défavorisées n’a pas reçu  l’aval du gouvernement. C’est évidemment très problématique. Pendant ce temps, des enfants restent à l’école le ventre vide. Une famille sur cinq renonce à inscrire ses enfants  aux repas chauds, car ceux -ci coûtent trop cher.   Pour éviter que la situation  ne s’aggrave, le PTB a proposé de geler le prix des  repas scolaires , avant la rentrée scolaire du mois d’août. La majorité a rejeté  cette idée, prétextant que cela mettrait les écoles en difficulté.   Selon mon groupe et moi -même , cet argument ne tient pas la route, car notre  proposition prévoyait aussi que la Communauté française compense la différence pour les écoles concernées. Nous avons estimé que, d’ici la fin de l’année,  un tel dispositif coûterait 4  millions d’euros, c’est -à-dire un tiers de ce que l a  Communauté française a dépensé depuis 2019 en consultances extérieures. Par  exemple, les firmes Roland Berger et KPMG ont reçu plus d e 1,5 million d’euros  pour leurs études sur le budget base zéro. Par conséquent, ce n’est pas une question de moyens,  mais de choix politique: comment le gouvernement utilise -t-il  l’argent à disposition?  CRI No17 (2022 -2023)  ( 10 )   Dès lors, pourquoi votre projet de pérennisation des repas gratuits dans les  écoles défavorisées n’a -t-il pas eu le feu vert du gouvernement? Quelles mesures  avez -vous prévu es pour garantir l’accessibilité des repas scolaires à la rentrée  prochaine?   M.'},\n",
              "  {'speaker': 'Frédéric Daerden',\n",
              "   'title': \"Ministre du Budget, de la Fonction publique, de l'Égalité des chances et de la tutelle sur Wallonie-Bruxelles Enseignement\",\n",
              "   'text': ', vice -président du gouvernement et ministre du Budget, de  la Fonction publique, de l’Égalité des chances et de la tutelle sur Wallonie Bruxelles Enseignement.  – La gratuité des repas dans les cantines scolaires est  une thématique importante qui a fait l’objet d’un projet pilote lancé lors de la  législature précédente et que nous avons alimenté par la suite. Au mois  de mai dernier, nous avons lancé un appel à pro jets pour l’année scolaire en  cours et pour la suivante. Il permettra aux écoles les plus défavorisées de proposer des repas gratuits, non plus seulement aux élèves de l’enseignement maternel  comme c’était le cas lors de la législature précédente,  mais aus si progressivement à l’ensemble des élèves du primaire.   En parallèle, notre volonté est de pérenniser l’opération par voie décrétale.  Nous sommes toujours en discussion pour affiner le décret et faire en sorte que  ce texte soit le meilleur possible. Je sui s convaincu qu’il aboutira,  mais il  n’entrera en vigueur qu’en 2024 et nous avons donc encore un peu de temps  pour le perfectionner. Nous aurons l’occasion d’en discuter dans quelques jours  ou semaines, satisfaits de savoir ce dispositif pérennisé.   Mme'},\n",
              "  {'speaker': 'Alice Bernard',\n",
              "   'title': 'Député',\n",
              "   'text': '(PTB) . – Monsieur le Ministre, j’entends donc que la discussion est toujours en cours et qu’il y aurait la possibilité de pérenniser le projet  dans sa forme actuelle. C’est une bonne chose. Toutefois, il serait aussi utile de  réfléchir aux moyen s pour aller encore plus loin et pour permettre à beaucoup  plus d’enfants de bénéficier de repas chauds gratuits. À ce sujet, je vous suggère  de prêter attention à la proposition déposée par le PTB au niveau fédéral et qui  pourrait profiter à la Communauté  française. Nous souhaitons en effet bloquer  les prix des denrées alimentaires et des autres produits de base en faisant contribuer les multinationales du secteur agroalimentaire. Cette solution constituerait un progrès certain pour les enfants de la Fédér ation Wallonie -Bruxelles . Je  pense ici par exemple à Sodexo qui a versé 294  millions d’euros à ses actionnaires: de quoi donner un repas chaud gratuit à tous les enfants!'}]}"
            ]
          },
          "execution_count": 29,
          "metadata": {},
          "output_type": "execute_result"
        }
      ],
      "source": [
        "questions[1]"
      ]
    },
    {
      "cell_type": "code",
      "execution_count": 50,
      "metadata": {},
      "outputs": [],
      "source": [
        "def process_directory(directory_path, known_speakers):\n",
        "    all_questions_data = []\n",
        "    all_projets_data = []\n",
        "\n",
        "    for file_name in os.listdir(directory_path):\n",
        "        if file_name.endswith('.txt'):\n",
        "            file_path = os.path.join(directory_path, file_name)\n",
        "            questions_data, projets_data = process_file(file_path, known_speakers)\n",
        "            all_questions_data.extend(questions_data)\n",
        "            all_projets_data.extend(projets_data)\n",
        "\n",
        "    create_json_file(all_questions_data, all_projets_data, 'combined.json')"
      ]
    },
    {
      "cell_type": "code",
      "execution_count": 52,
      "metadata": {},
      "outputs": [],
      "source": [
        "process_directory(r'C:\\Users\\Stephanie\\Documents\\GitHub\\NLP_Parlement\\txt', known_speakers)"
      ]
    },
    {
      "attachments": {},
      "cell_type": "markdown",
      "metadata": {},
      "source": [
        "# Analysis"
      ]
    },
    {
      "cell_type": "code",
      "execution_count": null,
      "metadata": {},
      "outputs": [],
      "source": [
        "# To DO "
      ]
    }
  ],
  "metadata": {
    "colab": {
      "provenance": []
    },
    "kernelspec": {
      "display_name": "Python 3",
      "name": "python3"
    },
    "language_info": {
      "codemirror_mode": {
        "name": "ipython",
        "version": 3
      },
      "file_extension": ".py",
      "mimetype": "text/x-python",
      "name": "python",
      "nbconvert_exporter": "python",
      "pygments_lexer": "ipython3",
      "version": "3.10.5"
    }
  },
  "nbformat": 4,
  "nbformat_minor": 0
}
