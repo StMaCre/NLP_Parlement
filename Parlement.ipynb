{
  "cells": [
    {
      "cell_type": "code",
      "execution_count": null,
      "metadata": {
        "id": "4sXAjO0v9CdY"
      },
      "outputs": [],
      "source": [
        "!pip install PyPDF2"
      ]
    },
    {
      "cell_type": "code",
      "execution_count": null,
      "metadata": {
        "id": "5K66NBBXlfX4"
      },
      "outputs": [],
      "source": [
        "!pip install dateparser"
      ]
    },
    {
      "cell_type": "code",
      "execution_count": 4,
      "metadata": {
        "id": "HdOJ8c8Y6ZGv"
      },
      "outputs": [],
      "source": [
        "import pandas as pd \n",
        "import numpy as np \n",
        "from PyPDF2 import PdfReader\n",
        "from datetime import datetime \n",
        "import dateparser\n",
        "import re\n",
        "import locale\n",
        "import dateparser\n",
        "import json\n",
        "import os"
      ]
    },
    {
      "cell_type": "markdown",
      "metadata": {
        "id": "fZvnsUL28q9G"
      },
      "source": [
        "# Extracting the text "
      ]
    },
    {
      "cell_type": "code",
      "execution_count": 13,
      "metadata": {
        "id": "V_7X4bAJ9Pca"
      },
      "outputs": [],
      "source": [
        "def extract_pdf_to_txt(src_dir, dest_dir):\n",
        "    # List all files in the source directory\n",
        "    all_files = os.listdir(src_dir)\n",
        "\n",
        "    # Filter PDF files\n",
        "    pdf_files = [f for f in all_files if f.lower().endswith('.pdf')]\n",
        "\n",
        "    # Loop through all the PDF files\n",
        "    for pdf_file in pdf_files:\n",
        "        pdf_path = os.path.join(src_dir, pdf_file)\n",
        "        reader = PdfReader(pdf_path)\n",
        "\n",
        "        # Extract text from the first page\n",
        "        first_page_text = reader.pages[0].extract_text()\n",
        "\n",
        "        # Search for a date in the format \"DD MONTH YYYY\" using a regular expression\n",
        "        date_match = re.search(r'\\d{1,2} (JANVIER|FÉVRIER|MARS|AVRIL|MAI|JUIN|JUILLET|AOÛT|SEPTEMBRE|OCTOBRE|NOVEMBRE|DÉCEMBRE)  \\d{4}', first_page_text)\n",
        "\n",
        "        # If a date is found, use it as a filename\n",
        "        if date_match:\n",
        "            # Get the matched date string\n",
        "            date_str = date_match.group()\n",
        "\n",
        "            # Remove extra spaces from the date string\n",
        "            date_str = ' '.join(date_str.split())\n",
        "\n",
        "            # Convert the date string to a datetime object\n",
        "            date = dateparser.parse(date_str, languages=['fr'])\n",
        "\n",
        "            # Format the date as \"YY-MM-DD\"\n",
        "            formatted_date = date.strftime('%y-%m-%d')\n",
        "\n",
        "            # Create a filename using the formatted date\n",
        "            filename = f\"{formatted_date}.txt\"\n",
        "        # If a date is not found, use the original PDF filename as a base\n",
        "        else:\n",
        "            filename = f\"{os.path.splitext(pdf_file)[0]}.txt\"\n",
        "\n",
        "        txt_path = os.path.join(dest_dir, filename)\n",
        "\n",
        "        # Open the output file for writing with 'utf-8' encoding\n",
        "        with open(txt_path, \"w\", encoding='utf-8') as f:\n",
        "            # Loop through all the pages in the PDF\n",
        "            for page in reader.pages:\n",
        "                # Extract text from the current page and write it to the output file\n",
        "                f.write(page.extract_text())\n",
        "\n",
        "src_dir = r'C:\\Users\\Stephanie\\Documents\\GitHub\\NLP_Parlement\\pdf'\n",
        "dest_dir = r'C:\\Users\\Stephanie\\Documents\\GitHub\\NLP_Parlement\\txt'\n",
        "extract_pdf_to_txt(src_dir, dest_dir)"
      ]
    },
    {
      "cell_type": "markdown",
      "metadata": {
        "id": "uZRPFKQlA9NZ"
      },
      "source": [
        "# Important information"
      ]
    },
    {
      "cell_type": "code",
      "execution_count": 22,
      "metadata": {},
      "outputs": [],
      "source": [
        "deputes = pd.read_csv(r'C:\\Users\\Stephanie\\Documents\\GitHub\\NLP_Parlement\\2022.07.22_Parlementaires PFWB_0.csv', header=None)\n",
        "column_names = ['Prénom', 'nom', 'sexe', 'résidence', 'naissance', 'date', 'parti', 'titre']\n",
        "deputes.columns = column_names"
      ]
    },
    {
      "cell_type": "code",
      "execution_count": 23,
      "metadata": {},
      "outputs": [
        {
          "data": {
            "text/html": [
              "<div>\n",
              "<style scoped>\n",
              "    .dataframe tbody tr th:only-of-type {\n",
              "        vertical-align: middle;\n",
              "    }\n",
              "\n",
              "    .dataframe tbody tr th {\n",
              "        vertical-align: top;\n",
              "    }\n",
              "\n",
              "    .dataframe thead th {\n",
              "        text-align: right;\n",
              "    }\n",
              "</style>\n",
              "<table border=\"1\" class=\"dataframe\">\n",
              "  <thead>\n",
              "    <tr style=\"text-align: right;\">\n",
              "      <th></th>\n",
              "      <th>Prénom</th>\n",
              "      <th>nom</th>\n",
              "      <th>sexe</th>\n",
              "      <th>résidence</th>\n",
              "      <th>naissance</th>\n",
              "      <th>date</th>\n",
              "      <th>parti</th>\n",
              "      <th>titre</th>\n",
              "    </tr>\n",
              "  </thead>\n",
              "  <tbody>\n",
              "    <tr>\n",
              "      <th>0</th>\n",
              "      <td>Caroline</td>\n",
              "      <td>Cassart-Mailleux</td>\n",
              "      <td>F</td>\n",
              "      <td>Huy-Waremme</td>\n",
              "      <td>Namur</td>\n",
              "      <td>01/06/1973</td>\n",
              "      <td>MR</td>\n",
              "      <td>NaN</td>\n",
              "    </tr>\n",
              "    <tr>\n",
              "      <th>1</th>\n",
              "      <td>Philippe</td>\n",
              "      <td>Dodrimont</td>\n",
              "      <td>M</td>\n",
              "      <td>Liège</td>\n",
              "      <td>Aywaille</td>\n",
              "      <td>01/06/1964</td>\n",
              "      <td>MR</td>\n",
              "      <td>NaN</td>\n",
              "    </tr>\n",
              "    <tr>\n",
              "      <th>2</th>\n",
              "      <td>Jean-Luc</td>\n",
              "      <td>Crucke</td>\n",
              "      <td>M</td>\n",
              "      <td>Tournai-Ath-Mouscron</td>\n",
              "      <td>Renaix</td>\n",
              "      <td>29/10/1962</td>\n",
              "      <td>MR</td>\n",
              "      <td>NaN</td>\n",
              "    </tr>\n",
              "    <tr>\n",
              "      <th>3</th>\n",
              "      <td>Jean-Paul</td>\n",
              "      <td>Wahl</td>\n",
              "      <td>M</td>\n",
              "      <td>Nivelles</td>\n",
              "      <td>Uccle</td>\n",
              "      <td>17/11/1955</td>\n",
              "      <td>MR</td>\n",
              "      <td>NaN</td>\n",
              "    </tr>\n",
              "    <tr>\n",
              "      <th>4</th>\n",
              "      <td>Sybille</td>\n",
              "      <td>de Coster-Bauchau</td>\n",
              "      <td>F</td>\n",
              "      <td>Nivelles</td>\n",
              "      <td>Elisabethville</td>\n",
              "      <td>23/02/1953</td>\n",
              "      <td>MR</td>\n",
              "      <td>NaN</td>\n",
              "    </tr>\n",
              "    <tr>\n",
              "      <th>...</th>\n",
              "      <td>...</td>\n",
              "      <td>...</td>\n",
              "      <td>...</td>\n",
              "      <td>...</td>\n",
              "      <td>...</td>\n",
              "      <td>...</td>\n",
              "      <td>...</td>\n",
              "      <td>...</td>\n",
              "    </tr>\n",
              "    <tr>\n",
              "      <th>94</th>\n",
              "      <td>Pierre-Yves</td>\n",
              "      <td>Jeholet</td>\n",
              "      <td>M</td>\n",
              "      <td>NaN</td>\n",
              "      <td>Verviers</td>\n",
              "      <td>06/10/1968</td>\n",
              "      <td>MR</td>\n",
              "      <td>Ministre-Président</td>\n",
              "    </tr>\n",
              "    <tr>\n",
              "      <th>95</th>\n",
              "      <td>Bénédicte</td>\n",
              "      <td>Linard</td>\n",
              "      <td>F</td>\n",
              "      <td>NaN</td>\n",
              "      <td>Ottignies</td>\n",
              "      <td>22/08/1976</td>\n",
              "      <td>ECOLO</td>\n",
              "      <td>Vice-Présidente et Ministre de l’Enfance, de l...</td>\n",
              "    </tr>\n",
              "    <tr>\n",
              "      <th>96</th>\n",
              "      <td>Frédéric</td>\n",
              "      <td>Daerden</td>\n",
              "      <td>M</td>\n",
              "      <td>NaN</td>\n",
              "      <td>Montegnée</td>\n",
              "      <td>11/01/1970</td>\n",
              "      <td>PS</td>\n",
              "      <td>Vice-Président et Ministre du Budget, de la Fo...</td>\n",
              "    </tr>\n",
              "    <tr>\n",
              "      <th>97</th>\n",
              "      <td>Valérie</td>\n",
              "      <td>Glatigny</td>\n",
              "      <td>F</td>\n",
              "      <td>Auderghem</td>\n",
              "      <td>Marche-en-Famenne</td>\n",
              "      <td>13/11/1973</td>\n",
              "      <td>MR</td>\n",
              "      <td>Ministre de l’Enseignement supérieur, de l’Ens...</td>\n",
              "    </tr>\n",
              "    <tr>\n",
              "      <th>98</th>\n",
              "      <td>Caroline</td>\n",
              "      <td>Désir</td>\n",
              "      <td>F</td>\n",
              "      <td>NaN</td>\n",
              "      <td>Bruxelles</td>\n",
              "      <td>20/10/1976</td>\n",
              "      <td>PS</td>\n",
              "      <td>Ministre de l'Education</td>\n",
              "    </tr>\n",
              "  </tbody>\n",
              "</table>\n",
              "<p>99 rows × 8 columns</p>\n",
              "</div>"
            ],
            "text/plain": [
              "          Prénom                nom sexe             résidence   \n",
              "0       Caroline   Cassart-Mailleux    F           Huy-Waremme  \\\n",
              "1       Philippe          Dodrimont    M                 Liège   \n",
              "2       Jean-Luc             Crucke    M  Tournai-Ath-Mouscron   \n",
              "3      Jean-Paul               Wahl    M              Nivelles   \n",
              "4        Sybille  de Coster-Bauchau    F              Nivelles   \n",
              "..           ...                ...  ...                   ...   \n",
              "94  Pierre-Yves             Jeholet    M                   NaN   \n",
              "95     Bénédicte             Linard    F                   NaN   \n",
              "96      Frédéric            Daerden    M                   NaN   \n",
              "97       Valérie           Glatigny    F             Auderghem   \n",
              "98      Caroline              Désir    F                   NaN   \n",
              "\n",
              "            naissance        date  parti   \n",
              "0               Namur  01/06/1973     MR  \\\n",
              "1            Aywaille  01/06/1964     MR   \n",
              "2              Renaix  29/10/1962     MR   \n",
              "3               Uccle  17/11/1955     MR   \n",
              "4      Elisabethville  23/02/1953     MR   \n",
              "..                ...         ...    ...   \n",
              "94           Verviers  06/10/1968     MR   \n",
              "95          Ottignies  22/08/1976  ECOLO   \n",
              "96          Montegnée  11/01/1970     PS   \n",
              "97  Marche-en-Famenne  13/11/1973     MR   \n",
              "98          Bruxelles  20/10/1976     PS   \n",
              "\n",
              "                                                titre  \n",
              "0                                                 NaN  \n",
              "1                                                 NaN  \n",
              "2                                                 NaN  \n",
              "3                                                 NaN  \n",
              "4                                                 NaN  \n",
              "..                                                ...  \n",
              "94                                 Ministre-Président  \n",
              "95  Vice-Présidente et Ministre de l’Enfance, de l...  \n",
              "96  Vice-Président et Ministre du Budget, de la Fo...  \n",
              "97  Ministre de l’Enseignement supérieur, de l’Ens...  \n",
              "98                            Ministre de l'Education  \n",
              "\n",
              "[99 rows x 8 columns]"
            ]
          },
          "execution_count": 23,
          "metadata": {},
          "output_type": "execute_result"
        }
      ],
      "source": [
        "deputes"
      ]
    },
    {
      "cell_type": "markdown",
      "metadata": {
        "id": "EybferjhR1Hq"
      },
      "source": [
        "# Convert to JSON file"
      ]
    },
    {
      "cell_type": "code",
      "execution_count": 24,
      "metadata": {
        "id": "1V4d-o4fR5oD"
      },
      "outputs": [],
      "source": [
        "# Read the transcript text \n",
        "with open(r'txt\\20-05-13.txt', 'r', encoding='utf-8') as f:\n",
        "    full_text = f.read()"
      ]
    },
    {
      "cell_type": "code",
      "execution_count": 25,
      "metadata": {
        "id": "DbTAYxHpSKzf"
      },
      "outputs": [],
      "source": [
        "# Define regular expressions and helper function to parse questions, speakers and statements\n",
        "def find_starting_point(text, starting_sentence='La séance est ouverte'):\n",
        "    starting_point = text.find(starting_sentence)\n",
        "    if starting_point != -1:\n",
        "        return starting_point + len(starting_sentence)\n",
        "    return None\n",
        "\n",
        "# Start the text after the table des matieres \n",
        "starting_point = find_starting_point(full_text)\n",
        "if starting_point is not None:\n",
        "    transcript_text = full_text[starting_point:]\n",
        "else:\n",
        "    print(\"Starting sentence not found. Analyzing the full text.\")\n",
        "    transcript_text = full_text"
      ]
    },
    {
      "cell_type": "code",
      "execution_count": 26,
      "metadata": {
        "id": "3PSmmL5iUWYp"
      },
      "outputs": [],
      "source": [
        "# Clean the text from the \\n characters \n",
        "transcript_text = transcript_text.replace('\\n', ' ')\n",
        "# Clean the text from the line breaks \n",
        "def clean_line_breaks(text):\n",
        "    # Replace hyphenated line breaks with an empty string\n",
        "    cleaned_text = re.sub(r'-\\s+', '', text)\n",
        "    return cleaned_text\n",
        "\n",
        "transcript_text = clean_line_breaks(transcript_text)"
      ]
    },
    {
      "cell_type": "code",
      "execution_count": 27,
      "metadata": {
        "id": "iMl0xtrPcsfX"
      },
      "outputs": [],
      "source": [
        "# Helper\n",
        "def find_questions(text):\n",
        "    question_pattern = re.compile(r'(?<=\\d\\.\\d Question)(.*?)(?=\\d\\.\\d Question)', re.DOTALL)\n",
        "    return question_pattern.findall(text)\n",
        "\n",
        "def find_projets(text):\n",
        "    projet_pattern = re.compile(r'\\d+ Projet de décret(.*?)(?=\\d+ Projet de décret|$)', re.DOTALL)\n",
        "    return projet_pattern.findall(text)\n",
        "\n",
        "def process_transcript(text, known_speakers):\n",
        "    # Create a regex pattern for speaker names\n",
        "    speaker_pattern = r'\\b(?:' + '|'.join([re.escape(speaker[\"name\"]) for speaker in known_speakers]) + r')\\b'\n",
        "\n",
        "    # Split the text into parts\n",
        "    parts = re.split('(' + speaker_pattern + ')', text)\n",
        "    # Initialize the result list\n",
        "    result = []\n",
        "\n",
        "    # Initialize the current speaker\n",
        "    current_speaker = None\n",
        "\n",
        "    # Iterate through the parts\n",
        "    for part in parts:\n",
        "        found_speaker = False\n",
        "        for speaker in known_speakers:\n",
        "            if speaker[\"name\"] == part.strip():\n",
        "                current_speaker = speaker\n",
        "                found_speaker = True\n",
        "                break\n",
        "\n",
        "        if not found_speaker and current_speaker is not None:\n",
        "            # Append the spoken text by the current speaker\n",
        "            spoken_text = part.strip()\n",
        "            if spoken_text:\n",
        "                result.append({\"speaker\": current_speaker[\"name\"], \"title\": current_speaker[\"title\"], \"text\": spoken_text})\n",
        "\n",
        "    return result\n"
      ]
    },
    {
      "cell_type": "code",
      "execution_count": 28,
      "metadata": {
        "id": "3Pak93LMcygH"
      },
      "outputs": [],
      "source": [
        "questions = find_questions(transcript_text)"
      ]
    },
    {
      "cell_type": "code",
      "execution_count": 31,
      "metadata": {
        "id": "KR143VQZubTv"
      },
      "outputs": [
        {
          "data": {
            "text/plain": [
              "' de M.  Pierre -Yves Lux à  M. Frédéric Daerden, vice -président  du gouvernement et ministre du Budget, de la Fo nction publique, de  l’Égalité des chances et de la tutelle  sur Wallonie -Bruxelles Enseignement,  intitulée «Réponse du ministre du  Budget à l’urgence culturelle»   M. Pierre -Yves Lux (Ecolo) . – Monsieur le  Ministre, votre intervention dans « La Libre » CRI No17 (2019 -2020)  ( 6 )  d’hier a  retenu toute mon attention pour trois raisons. Tout d’abord, vous y soulignez le rôle central que vous souhaitez donner ou redonner au  secteur culturel au sein de notre société. Vous  appelez à une discussion en profondeur sur cet  enjeu pour y parvenir. Le  groupe  Ecolo est particulièrement sensible à cette question.   Ensuite, vous appelez à une union sacrée afin  de répondre à l’urgence de la situation de crise  que traversent actuellement le secteur culturel et  tous ses opérateurs, comédiens  et techniciens ;  vous demandez à l’État fédéral de prendre ses  responsabilités, comme l’a fait la Fédération Wallonie -Bruxelles.   Enfin, et ce point me rassure énormément,  vous n’entendez pas devenir le ministre de  l’austérité budgétaire pour le secteur de la culture.  Bien au contraire, vous souhaitez être celui qui  investira dans le secteur. Il est essentiel de le rappeler maintenant.   Je souhaiterais obtenir plus d’informations  sur le fonds d’urgence de 80  millions d’euros déjà  constitué, dont 8,4  millions sont entièreme nt dévolus au secteur culturel. L’entièreté du fonds est -il  déjà affecté aujourd’hui? Envisagez -vous  de renforcer encore les mesures de soutien à la culture  puisqu’il s’agit d’un des secteurs les plus touchés  par la crise en Fédération Wallonie -Bruxelles? Cet  investissement a -t-il fait l’objet d’une réflexion  plus poussée par votre cabinet et au gouvernement? La création d’un fonds visant au redéploiement culturel est -elle à l’étude?   M. Frédéric Daerden , vice -président du  gouvernement et ministre du Budget,  de la Fonction publique, de l’Égalité des chances et de la  tutelle sur Wallonie -Bruxelles Enseignement.  –  Monsieur le Député, je me réjouis de  l’enthousiasme que vous portez à mon interview et  je ne doute pas que vous y voyez la preuve de  l’intérêt que je  porte, ainsi que mon parti, à la  culture. Le gouvernement a, dès le début de cette  crise sanitaire, décidé de maintenir les subventions  octroyées à toutes les associations et institutions  culturelles pour qu’elles puissent, malgré les difficultés, poursui vre leurs activités. Dans certains  cas, nous avons même anticipé le versement des  subventions.   Nous avons affecté un peu plus de  8 millions  d’euros du fonds d’urgence à la culture.  Très prochainement, la ministre Linard reviendra  avec une proposition d’aff ectation après les différentes consultations et l’analyse des demandes du  secteur. Le fonds d’urgence s’élève à  80 millions  d’euros dont 55  millions  d’euros déjà  affectés à différents secteurs dont la culture. Il  reste donc un peu de marge, mais les demand es  sont encore nombreuses. Par conséquent, il faudra  arbitrer l’affectation du solde de ce fonds  d’urgence qu’il sera peut -être nécessaire de compléter. Je ne préjuge pas de ce que le gouvernement décidera. Il est clair qu’il faut assurer la pérennité du s ecteur culturel, si primordial pour  l’ensemble des francophones.   Pour la relance et le redéploiement, le gouvernement a créé un comité de monitoring  consacré au domaine budgétaire et à l’élaboration des  futures lignes de conduite à adopter pour les différents secteurs. Voilà les réponses que je peux vous  apporter à ce stade. Vous voyez que je suis un  ministre du Budget qui veut être constructif et à la  recherche de solutions collectives.   M. Pierre -Yves Lux (Ecolo) . – Monsieur le  Ministre, je vous remercie p our ces précisions  techniques sur les questions budgétaires. La bonne  nouvelle aujourd’hui est que tous les partis, ou  presque, sont d’accord de dire qu’il est urgent de  sauver le secteur culturel. Nous devons lui permettre de se redéployer, notamment par la création  d’un véritable statut pour les artistes. Certes, c’est  au niveau fédéral que ce travail doit se faire, mais  nos groupes politiques y sont également présents.  Un investissement réel dans le redéploiement culturel est essentiel. Nous aurons l’occ asion d’en  rediscuter et, à ce moment -là, je réitérerai ma proposition de créer un fonds de redéploiement pour  la culture.   '"
            ]
          },
          "execution_count": 31,
          "metadata": {},
          "output_type": "execute_result"
        }
      ],
      "source": [
        "questions[0]"
      ]
    },
    {
      "cell_type": "code",
      "execution_count": 30,
      "metadata": {
        "id": "y1dX1NAnng6F"
      },
      "outputs": [],
      "source": [
        "decrets = find_projets(transcript_text)"
      ]
    },
    {
      "cell_type": "code",
      "execution_count": null,
      "metadata": {
        "id": "HpEfoLksM4M8"
      },
      "outputs": [],
      "source": [
        "result = process_transcript(questions[1], known_speakers)"
      ]
    },
    {
      "cell_type": "code",
      "execution_count": null,
      "metadata": {
        "id": "7VftETMao1Nw"
      },
      "outputs": [],
      "source": [
        "result = process_transcript(decrets[1], known_speakers)"
      ]
    },
    {
      "cell_type": "code",
      "execution_count": null,
      "metadata": {
        "colab": {
          "base_uri": "https://localhost:8080/"
        },
        "id": "8OWBAs0WPn_Z",
        "outputId": "57c8d716-4549-48bb-fbec-cc0aaf05e966"
      },
      "outputs": [
        {
          "data": {
            "text/plain": [
              "[{'speaker': 'Hélène Ryckmans', 'title': 'Ecolo', 'text': 'à M.'},\n",
              " {'speaker': 'Pierre -Yves Jeholet',\n",
              "  'title': 'Ministre-Président',\n",
              "  'text': ', ministre -président, intitulée «Intelligence artificielle  et risques»   Mme'},\n",
              " {'speaker': 'Hélène Ryckmans',\n",
              "  'title': 'Ecolo',\n",
              "  'text': '(Ecolo) . – Comme nous tous, j ’ai été sidérée d ’apprendre,  voici quelques jours, le décès d ’un jeune père de famille qui avait dialogué, au  sujet de son anxiété, avec le tchatb ot Eliza. Ce tchatbot l ’a entendu, l ’a écouté et  l’a poussé ou aidé à commettre son suicide. Nos pensées vont d ’abord à sa famille,  endeuillée. Ensuite, nous pensons à notre responsabilité, en tant que politiques,  d’agir face au phénomène.   La question de l ’intelligence artificielle a déjà été débattue ici, dans différentes  compétences de la Fédération Wallonie -Bruxelles: la jeunesse, l ’enseignement,  l’enseignement supérieur, l ’éducation, la culture. Nous devons définir un cadre à  l’intelligence artificielle, démocratique, appropriable par toutes et tous, par tous  les citoyens et toutes les citoyennes, quels que soient leur âge et leur condition.   Monsieur le Ministre -Président, quels sont les leviers dont vous disposez pour  créer ce cadre? Quelles  mesures comptez -vous prendre pour agir? Il est nécessaire  de s’approprier; de connaître le sujet des nouvelles technologies, qui ont été créées  par l ’humain; d ’avoir un recul critique; d ’exercer le libre arbitre. Ne serait -il pas  utile de déterminer un ca dre global, un plan fort d ’actions pour cadrer l ’intelligence artificielle en plein développement? Si non, ne serait -il pas nécessaire  d’avoir, au minimum, une feuille de route à ce propos?   M.'},\n",
              " {'speaker': 'Pierre -Yves Jeholet',\n",
              "  'title': 'Ministre-Président',\n",
              "  'text': ', ministre -président. – Madame la Députée, j e m’associe  aux condoléances que vous avez adressées à la famille et aux proches de la victime. Peu importe les circonstances, un suicide est toujours un drame.   Nos marges de manœuvre sont à l ’évidence réduites pour agir sur l ’usage de l ’intelligence artif icielle, entre autres car cette technologie évolue rapidement. Des  réflexions sont en cours au niveau européen. Certes, l ’intelligence artificielle,  comme toute nouvelle technologie, est un facteur d ’opportunités dans les domaines de la santé, des soins, d e l’aide aux personnes, et dans le domaine de l ’éducation et de la formation, mais elle peut aussi comporter des faiblesses ou s ’avérer  être une menace.   Vous avez mentionné les compétences de la Fédération Wallonie -Bruxelles. Sachez que tous les ministres sont sensibles et attentifs aux opportunités de l ’intelligence artificielle, mais ils se sentent aussi parfois démunis face à ses faiblesses  et à ses menaces. Pour l ’heure, aucun plan, quel qu ’il soit, n ’est inscrit à l ’agenda  du gouvernement. De nombreuse s initiatives sont prises au niveau européen,  voyons d ’abord sur quoi elles vont déboucher.   ( 11 ) CRI No16 (2022 -2023 )     Mme'},\n",
              " {'speaker': 'Hélène Ryckmans',\n",
              "  'title': 'Ecolo',\n",
              "  'text': '(Ecolo) . – Certes, un cadre européen doit être mis en  place, mais chaque gouvernement a la responsabilité de définir dès à présent une  feuille d e route pour établir clairement la manière dont les citoyens peuvent être  outillés dans ce domaine. Nous devons nous interroger sur les balises à instaurer  pour le développement de l ’intelligence artificielle. Elle doit être au service des  citoyens et non l’inverse. Face à des situations de souffrance, nous devons être en  mesure d ’agir.'}]"
            ]
          },
          "execution_count": 104,
          "metadata": {},
          "output_type": "execute_result"
        }
      ],
      "source": [
        "result"
      ]
    },
    {
      "cell_type": "code",
      "execution_count": null,
      "metadata": {
        "id": "KSFoYDgDbaEm"
      },
      "outputs": [],
      "source": [
        "# Create the json file \n",
        "def create_json_file(questions_data, projets_data, filename):\n",
        "    data = {\n",
        "        \"questions\": questions_data,\n",
        "        \"projets\": projets_data,\n",
        "    }\n",
        "    with open(filename, \"w\") as outfile:\n",
        "        json.dump(data, outfile, ensure_ascii=False, indent=2)\n",
        "\n",
        "date = formatted_date\n",
        "questions_type = \"question\"\n",
        "projets_type = \"projet\"\n",
        "theme = \"to be defined later\"\n",
        "filename = f\"{formatted_date}.json\"\n",
        "\n",
        "# Find and process questions\n",
        "questions_text = find_questions(transcript_text)\n",
        "questions_data = []\n",
        "for question_text in questions_text:\n",
        "    result = process_transcript(question_text, known_speakers)\n",
        "    question_data = {\n",
        "        \"date\": date,\n",
        "        \"type\": questions_type,\n",
        "        \"theme\": theme,\n",
        "        \"text\": result\n",
        "    }\n",
        "    questions_data.append(question_data)\n",
        "\n",
        "# Find and process projets\n",
        "projets_text = find_projets(transcript_text)\n",
        "projets_data = []\n",
        "for projet_text in projets_text:\n",
        "    result = process_transcript(projet_text, known_speakers)\n",
        "    projet_data = {\n",
        "        \"date\": date,\n",
        "        \"type\": projets_type,\n",
        "        \"theme\": theme,\n",
        "        \"text\": result\n",
        "    }\n",
        "    projets_data.append(projet_data)\n",
        "\n",
        "create_json_file(questions_data, projets_data, filename)"
      ]
    }
  ],
  "metadata": {
    "colab": {
      "provenance": []
    },
    "kernelspec": {
      "display_name": "Python 3",
      "name": "python3"
    },
    "language_info": {
      "codemirror_mode": {
        "name": "ipython",
        "version": 3
      },
      "file_extension": ".py",
      "mimetype": "text/x-python",
      "name": "python",
      "nbconvert_exporter": "python",
      "pygments_lexer": "ipython3",
      "version": "3.10.5"
    }
  },
  "nbformat": 4,
  "nbformat_minor": 0
}
